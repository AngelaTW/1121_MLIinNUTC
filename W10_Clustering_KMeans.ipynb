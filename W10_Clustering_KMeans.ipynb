{
 "cells": [
  {
   "cell_type": "markdown",
   "id": "9ca58ea3",
   "metadata": {},
   "source": [
    "# 1122 Data Mining _ W10 _ Clustering _ KMeans Basic\n",
    "K-means"
   ]
  },
  {
   "cell_type": "code",
   "execution_count": 1,
   "id": "48dd1d74",
   "metadata": {},
   "outputs": [],
   "source": [
    "#動物資料分群\n",
    "\n",
    "import pandas as pd\n",
    "import numpy as np\n",
    "from sklearn import cluster\n",
    "import matplotlib.pyplot as plt\n",
    "\n",
    "df = pd.DataFrame({\n",
    "   \"length\": [51, 46, 51, 45, 51, 50, 33, 38, 37, 33, 33, 21, 23, 24],\n",
    "   \"weight\": [10.2, 8.8, 8.1, 7.7, 9.8, 7.2, 4.8, 4.6, 3.5, 3.3, 4.3, 2.0, 1.0, 2.0]\n",
    "})\n"
   ]
  },
  {
   "cell_type": "code",
   "execution_count": 2,
   "id": "3ae4950e-b1cd-4ab8-b5e5-aabf7fbdd152",
   "metadata": {},
   "outputs": [
    {
     "name": "stderr",
     "output_type": "stream",
     "text": [
      "C:\\Users\\User\\anaconda3\\Lib\\site-packages\\sklearn\\cluster\\_kmeans.py:870: FutureWarning: The default value of `n_init` will change from 10 to 'auto' in 1.4. Set the value of `n_init` explicitly to suppress the warning\n",
      "  warnings.warn(\n",
      "C:\\Users\\User\\anaconda3\\Lib\\site-packages\\sklearn\\cluster\\_kmeans.py:1382: UserWarning: KMeans is known to have a memory leak on Windows with MKL, when there are less chunks than available threads. You can avoid it by setting the environment variable OMP_NUM_THREADS=1.\n",
      "  warnings.warn(\n"
     ]
    },
    {
     "name": "stdout",
     "output_type": "stream",
     "text": [
      "[1 1 1 1 1 1 2 2 2 2 2 0 0 0]\n"
     ]
    }
   ],
   "source": [
    "#在K值3的情況下，使用K-means演算法替14隻動物依體重和身長來進行分群\n",
    "k = 3\n",
    "\n",
    "kmeans = cluster.KMeans(n_clusters=k, random_state=12)\n",
    "kmeans.fit(df)\n",
    "\n",
    "print(kmeans.labels_)\n"
   ]
  },
  {
   "cell_type": "code",
   "execution_count": 3,
   "id": "b82c957b-f554-4fdd-88dc-9d6e39076fd4",
   "metadata": {},
   "outputs": [
    {
     "data": {
      "image/png": "[encoded data removed]",
      "text/plain": [
       "<Figure size 640x480 with 1 Axes>"
      ]
     },
     "metadata": {},
     "output_type": "display_data"
    }
   ],
   "source": [
    "#繪圖\n",
    "colmap = np.array([\"r\", \"g\", \"y\"])\n",
    "plt.scatter(df[\"length\"], df[\"weight\"], color=colmap[kmeans.labels_])\n",
    "plt.show()\n",
    " "
   ]
  },
  {
   "cell_type": "code",
   "execution_count": null,
   "id": "33898f51-ef4c-48cc-82a1-95f0707d6831",
   "metadata": {},
   "outputs": [],
   "source": []
  },
  {
   "cell_type": "code",
   "execution_count": 9,
   "id": "b7e9d157",
   "metadata": {},
   "outputs": [
    {
     "name": "stderr",
     "output_type": "stream",
     "text": [
      "C:\\Users\\User\\anaconda3\\Lib\\site-packages\\sklearn\\cluster\\_kmeans.py:870: FutureWarning: The default value of `n_init` will change from 10 to 'auto' in 1.4. Set the value of `n_init` explicitly to suppress the warning\n",
      "  warnings.warn(\n",
      "C:\\Users\\User\\anaconda3\\Lib\\site-packages\\sklearn\\cluster\\_kmeans.py:1382: UserWarning: KMeans is known to have a memory leak on Windows with MKL, when there are less chunks than available threads. You can avoid it by setting the environment variable OMP_NUM_THREADS=1.\n",
      "  warnings.warn(\n"
     ]
    },
    {
     "name": "stdout",
     "output_type": "stream",
     "text": [
      "[1 0 1 1 2 1 0 1 1 1]\n"
     ]
    }
   ],
   "source": [
    "#商品購買紀錄分群 for 啤酒客群\n",
    "\n",
    "df = pd.DataFrame({\n",
    "   \"amount\": [2.230, 2.121, 2.526, 2.330, 1.621, 2.997, 2.107, 2.323, 2.399, 2.380],\n",
    "   \"frequency\": [1.530, 1.764, 1.386, 1.620, 1.264, 1.374, 2.291, 1.231, 1.563, 1.650],\n",
    "   \"quantity\": [2.480, 2.363, 2.558, 2.570, 1.863, 2.502, 2.669, 2.909, 2.838, 2.620],\n",
    "})\n",
    "\n",
    "k = 3\n",
    "\n",
    "kmeans = cluster.KMeans(n_clusters=k, random_state=4)\n",
    "kmeans.fit(df)\n",
    "print(kmeans.labels_)\n",
    " "
   ]
  },
  {
   "cell_type": "code",
   "execution_count": null,
   "id": "7862eb0e",
   "metadata": {},
   "outputs": [],
   "source": []
  }
 ],
 "metadata": {
  "kernelspec": {
   "display_name": "Python 3 (ipykernel)",
   "language": "python",
   "name": "python3"
  },
  "language_info": {
   "codemirror_mode": {
    "name": "ipython",
    "version": 3
   },
   "file_extension": ".py",
   "mimetype": "text/x-python",
   "name": "python",
   "nbconvert_exporter": "python",
   "pygments_lexer": "ipython3",
   "version": "3.11.7"
  }
 },
 "nbformat": 4,
 "nbformat_minor": 5
}
