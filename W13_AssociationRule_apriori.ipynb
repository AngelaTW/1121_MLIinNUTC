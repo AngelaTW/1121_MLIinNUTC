{
 "cells": [
  {
   "cell_type": "code",
   "execution_count": null,
   "metadata": {
    "executionInfo": {
     "elapsed": 384,
     "status": "ok",
     "timestamp": 1660025046240,
     "user": {
      "displayName": "Chen-Yao Chung",
      "userId": "16870777617936090918"
     },
     "user_tz": -480
    },
    "id": "ovnwKNFXhtKh"
   },
   "outputs": [],
   "source": [
    "import pandas as pd\n",
    "import numpy as np"
   ]
  },
  {
   "cell_type": "code",
   "execution_count": null,
   "metadata": {
    "colab": {
     "base_uri": "https://localhost:8080/"
    },
    "executionInfo": {
     "elapsed": 3,
     "status": "ok",
     "timestamp": 1660025046982,
     "user": {
      "displayName": "Chen-Yao Chung",
      "userId": "16870777617936090918"
     },
     "user_tz": -480
    },
    "id": "pdeaJs-Ui84w",
    "outputId": "9cb583d1-d5cd-4c39-84b5-fe9cb76b439b"
   },
   "outputs": [],
   "source": [
    "mylist = [['adidas', 'Fila', 'Under Armour'],\n",
    "      ['Nike', 'Lacoste', 'New Balance', 'Pony'],\n",
    "      ['adidas', 'Pony', 'Under Armour'],\n",
    "      ['adidas', 'New Balance', 'Fila'],\n",
    "      ['Lacoste', 'Pony'],\n",
    "      ['adidas', 'New Balance', 'Pony'],\n",
    "      ['Nike', 'New Balance', 'Fila'],\n",
    "      ['Nike', 'Lacoste', 'Fila'],\n",
    "      ['adidas', 'Lacoste', 'Fila'],\n",
    "      ['Nike', 'Lacoste', 'Fila']]\n",
    "mylist"
   ]
  },
  {
   "cell_type": "code",
   "execution_count": null,
   "metadata": {},
   "outputs": [],
   "source": [
    "print(type(mylist))\n",
    "print(len(mylist))"
   ]
  },
  {
   "cell_type": "code",
   "execution_count": null,
   "metadata": {
    "colab": {
     "base_uri": "https://localhost:8080/"
    },
    "executionInfo": {
     "elapsed": 611,
     "status": "ok",
     "timestamp": 1660025055966,
     "user": {
      "displayName": "Chen-Yao Chung",
      "userId": "16870777617936090918"
     },
     "user_tz": -480
    },
    "id": "DkYJhlR70Aw0",
    "outputId": "ffe4363e-69e6-486d-cb75-3d765928fed3"
   },
   "outputs": [],
   "source": [
    "from mlxtend.preprocessing import TransactionEncoder\n",
    "te = TransactionEncoder()\n",
    "te_ary = te.fit(mylist).transform(mylist)\n",
    "te_ary"
   ]
  },
  {
   "cell_type": "code",
   "execution_count": null,
   "metadata": {},
   "outputs": [],
   "source": [
    "te_ary.astype('int')"
   ]
  },
  {
   "cell_type": "code",
   "execution_count": null,
   "metadata": {},
   "outputs": [],
   "source": [
    "te.columns_"
   ]
  },
  {
   "cell_type": "code",
   "execution_count": null,
   "metadata": {
    "colab": {
     "base_uri": "https://localhost:8080/",
     "height": 363
    },
    "executionInfo": {
     "elapsed": 4,
     "status": "ok",
     "timestamp": 1660025061420,
     "user": {
      "displayName": "Chen-Yao Chung",
      "userId": "16870777617936090918"
     },
     "user_tz": -480
    },
    "id": "mBvzeIVR0A7o",
    "outputId": "0d5024e0-1401-436b-e52c-7a20ba6965e0"
   },
   "outputs": [],
   "source": [
    "df = pd.DataFrame(te_ary, columns = te.columns_)\n",
    "df"
   ]
  },
  {
   "cell_type": "code",
   "execution_count": null,
   "metadata": {
    "colab": {
     "base_uri": "https://localhost:8080/",
     "height": 363
    },
    "executionInfo": {
     "elapsed": 1007,
     "status": "ok",
     "timestamp": 1660025192127,
     "user": {
      "displayName": "Chen-Yao Chung",
      "userId": "16870777617936090918"
     },
     "user_tz": -480
    },
    "id": "0YiavArr0-nB",
    "outputId": "1f77e108-4519-4410-a9fe-ed1fdcc46f2f"
   },
   "outputs": [],
   "source": [
    "from mlxtend.frequent_patterns import apriori\n",
    "apriori(df, min_support = 0.3)"
   ]
  },
  {
   "cell_type": "code",
   "execution_count": null,
   "metadata": {},
   "outputs": [],
   "source": [
    "frequent_itemsets = apriori(df, min_support = 0.3, use_colnames = True)\n",
    "frequent_itemsets"
   ]
  },
  {
   "cell_type": "code",
   "execution_count": null,
   "metadata": {
    "colab": {
     "base_uri": "https://localhost:8080/",
     "height": 363
    },
    "executionInfo": {
     "elapsed": 325,
     "status": "ok",
     "timestamp": 1656343524448,
     "user": {
      "displayName": "Chen-Yao Chung",
      "userId": "16870777617936090918"
     },
     "user_tz": -480
    },
    "id": "cWWBco4E2SmI",
    "outputId": "8883c978-fd8a-48aa-9e7b-ab82741cad57"
   },
   "outputs": [],
   "source": [
    "frequent_itemsets['length'] = frequent_itemsets['itemsets'].apply(lambda x:len(x))\n",
    "frequent_itemsets"
   ]
  },
  {
   "cell_type": "code",
   "execution_count": null,
   "metadata": {
    "colab": {
     "base_uri": "https://localhost:8080/",
     "height": 175
    },
    "executionInfo": {
     "elapsed": 318,
     "status": "ok",
     "timestamp": 1656343549079,
     "user": {
      "displayName": "Chen-Yao Chung",
      "userId": "16870777617936090918"
     },
     "user_tz": -480
    },
    "id": "IN0RPlA-0BCH",
    "outputId": "df77e890-e182-4301-df85-9b9e7f024169"
   },
   "outputs": [],
   "source": [
    "frequent_itemsets[(frequent_itemsets['length'] >= 2) & (frequent_itemsets['support'] >= 0.3)]"
   ]
  },
  {
   "cell_type": "code",
   "execution_count": null,
   "metadata": {},
   "outputs": [],
   "source": [
    "frequent_itemsets[frequent_itemsets['itemsets'] == {'Nike', 'Lacoste'}]"
   ]
  },
  {
   "cell_type": "code",
   "execution_count": null,
   "metadata": {},
   "outputs": [],
   "source": [
    "fname = 'Nike'\n",
    "frequent_itemsets[frequent_itemsets['itemsets'].astype(str).str.title().str.contains(fname)]"
   ]
  },
  {
   "cell_type": "code",
   "execution_count": null,
   "metadata": {
    "colab": {
     "base_uri": "https://localhost:8080/",
     "height": 156
    },
    "executionInfo": {
     "elapsed": 311,
     "status": "ok",
     "timestamp": 1656343623105,
     "user": {
      "displayName": "Chen-Yao Chung",
      "userId": "16870777617936090918"
     },
     "user_tz": -480
    },
    "id": "KZ5gT8hR_VRr",
    "outputId": "f53867aa-c7a2-40dd-c857-e1a35d2b342b"
   },
   "outputs": [],
   "source": [
    "from mlxtend.frequent_patterns import association_rules\n",
    "association_rules(frequent_itemsets, metric = 'confidence', min_threshold = 0.7)"
   ]
  },
  {
   "cell_type": "code",
   "execution_count": null,
   "metadata": {},
   "outputs": [],
   "source": [
    "rules = association_rules(frequent_itemsets, metric = 'lift', min_threshold = 1.2)\n",
    "rules"
   ]
  },
  {
   "cell_type": "code",
   "execution_count": null,
   "metadata": {},
   "outputs": [],
   "source": [
    "rules['antecedent_len'] = rules['antecedents'].apply(lambda x:len(x))\n",
    "rules"
   ]
  },
  {
   "cell_type": "code",
   "execution_count": null,
   "metadata": {},
   "outputs": [],
   "source": [
    "rules[(rules['antecedent_len'] >= 1) & (rules['confidence'] >= 0.7) & (rules['lift'] >= 1.2)]"
   ]
  },
  {
   "cell_type": "code",
   "execution_count": null,
   "metadata": {},
   "outputs": [],
   "source": [
    "rules[rules['antecedents'] == {'Nike'}]"
   ]
  },
  {
   "cell_type": "code",
   "execution_count": null,
   "metadata": {},
   "outputs": [],
   "source": [
    "\"\"\"\n",
    "#Exercise：使用者自訂資料mydataset\n",
    "\n",
    "mydataset = [['Milk', 'Cabbage', 'Nutmeg', 'Kidney Beans', 'Eggs', 'Yogurt'], \n",
    "           ['Dill', 'Cabbage', 'Nutmeg', 'Kidney Beans', 'Eggs', 'Yogurt'], \n",
    "           ['Milk', 'Apple', 'Kidney Beans', 'Eggs'], \n",
    "           ['Milk', 'Unicorn', 'Corn', 'Kidney Beans', 'Yogurt'], \n",
    "           ['Corn', 'Cabbage', 'Nutmeg', 'Kidney Beans', 'Ice cream', 'Eggs']]\n",
    "\"\"\""
   ]
  }
 ],
 "metadata": {
  "colab": {
   "collapsed_sections": [],
   "name": "AssociationRule_apriori1.ipynb",
   "provenance": []
  },
  "kernelspec": {
   "display_name": "Python 3 (ipykernel)",
   "language": "python",
   "name": "python3"
  },
  "language_info": {
   "codemirror_mode": {
    "name": "ipython",
    "version": 3
   },
   "file_extension": ".py",
   "mimetype": "text/x-python",
   "name": "python",
   "nbconvert_exporter": "python",
   "pygments_lexer": "ipython3",
   "version": "3.11.4"
  }
 },
 "nbformat": 4,
 "nbformat_minor": 1
}
